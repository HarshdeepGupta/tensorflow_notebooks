{
 "cells": [
  {
   "cell_type": "code",
   "execution_count": 2,
   "metadata": {
    "collapsed": true
   },
   "outputs": [],
   "source": [
    "# do the imports\n",
    "import numpy as np\n",
    "import tensorflow as tf"
   ]
  },
  {
   "cell_type": "code",
   "execution_count": 28,
   "metadata": {
    "collapsed": true
   },
   "outputs": [],
   "source": [
    "# train a linear regression model to predict house prices\n",
    "# assume the linear model to be Y = W*X + b\n",
    "X = tf.placeholder(tf.float32, [None, 1])\n",
    "Y = tf.placeholder(tf.float32, [None,1])\n",
    "#  the weight and biases\n",
    "W = tf.Variable(tf.zeros([1,1]))\n",
    "b = tf.Variable(tf.zeros([1]))\n",
    "# the model\n",
    "prediction = tf.matmul(X,W) + b\n",
    "# the cost function\n",
    "cost = tf.reduce_mean(tf.square(Y - prediction))\n",
    "# Use gradient descent\n",
    "# An ode to gradient descent\n",
    "'''\n",
    "O' Gradient Descent\n",
    "Control our variances\n",
    "Update our parameters\n",
    "Find the global minima\n",
    "And!!! Lead us... to convergence\n",
    "'''\n",
    "learning_rate = 0.000001\n",
    "train_step = tf.train.GradientDescentOptimizer(learning_rate).minimize(cost)"
   ]
  },
  {
   "cell_type": "code",
   "execution_count": 31,
   "metadata": {
    "collapsed": false
   },
   "outputs": [
    {
     "name": "stdout",
     "output_type": "stream",
     "text": [
      "Finally:\n",
      "W = 3.009957\n",
      "b = 0.048585\n"
     ]
    }
   ],
   "source": [
    "sess = tf.Session()\n",
    "init = tf.global_variables_initializer()\n",
    "sess.run(init)\n",
    "steps = 1000\n",
    "epochs = 10\n",
    "Verbose = False\n",
    "# In the end, the model should learn these values\n",
    "test_w = 3\n",
    "bias = 10\n",
    "\n",
    "for _ in xrange(epochs):  \n",
    "    for i in xrange(steps):\n",
    "    #     make fake data for the model\n",
    "    #     feed one example at a time\n",
    "#     stochastic gradient descent, because we only use one example at a time\n",
    "        x_temp = np.array([[i]])\n",
    "        y_temp = np.array([[test_w*i + bias]])\n",
    "    #     train the model using the data\n",
    "        feed_dict = {X: x_temp, Y:y_temp}\n",
    "        sess.run(train_step,feed_dict=feed_dict)\n",
    "        if Verbose and i%100 == 0:\n",
    "            print(\"Iteration No: %d\" %i)\n",
    "            print(\"W = %f\" % sess.run(W))\n",
    "            print(\"b = %f\" % sess.run(b))\n",
    "        \n",
    "print(\"Finally:\")\n",
    "print(\"W = %f\" % sess.run(W))\n",
    "print(\"b = %f\" % sess.run(b))\n",
    "# These values should be close to the values we used to generate data"
   ]
  },
  {
   "cell_type": "code",
   "execution_count": null,
   "metadata": {
    "collapsed": true
   },
   "outputs": [],
   "source": []
  }
 ],
 "metadata": {
  "kernelspec": {
   "display_name": "Python 2",
   "language": "python",
   "name": "python2"
  },
  "language_info": {
   "codemirror_mode": {
    "name": "ipython",
    "version": 2
   },
   "file_extension": ".py",
   "mimetype": "text/x-python",
   "name": "python",
   "nbconvert_exporter": "python",
   "pygments_lexer": "ipython2",
   "version": "2.7.13"
  }
 },
 "nbformat": 4,
 "nbformat_minor": 2
}
